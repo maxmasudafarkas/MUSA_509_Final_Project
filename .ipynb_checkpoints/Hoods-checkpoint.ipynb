{
 "cells": [
  {
   "cell_type": "code",
   "execution_count": 2,
   "id": "a979ad69",
   "metadata": {},
   "outputs": [],
   "source": [
    "import geopandas as gpd"
   ]
  },
  {
   "cell_type": "code",
   "execution_count": 14,
   "id": "a07d6761",
   "metadata": {},
   "outputs": [],
   "source": [
    "Hoods = gpd.read_file(\"https://raw.githubusercontent.com/azavea/geo-data/master/Neighborhoods_Philadelphia/Neighborhoods_Philadelphia.geojson\")"
   ]
  },
  {
   "cell_type": "code",
   "execution_count": 15,
   "id": "ec081c22",
   "metadata": {},
   "outputs": [
    {
     "data": {
      "text/html": [
       "<div>\n",
       "<style scoped>\n",
       "    .dataframe tbody tr th:only-of-type {\n",
       "        vertical-align: middle;\n",
       "    }\n",
       "\n",
       "    .dataframe tbody tr th {\n",
       "        vertical-align: top;\n",
       "    }\n",
       "\n",
       "    .dataframe thead th {\n",
       "        text-align: right;\n",
       "    }\n",
       "</style>\n",
       "<table border=\"1\" class=\"dataframe\">\n",
       "  <thead>\n",
       "    <tr style=\"text-align: right;\">\n",
       "      <th></th>\n",
       "      <th>name</th>\n",
       "      <th>listname</th>\n",
       "      <th>mapname</th>\n",
       "      <th>shape_leng</th>\n",
       "      <th>shape_area</th>\n",
       "      <th>cartodb_id</th>\n",
       "      <th>created_at</th>\n",
       "      <th>updated_at</th>\n",
       "      <th>geometry</th>\n",
       "    </tr>\n",
       "  </thead>\n",
       "  <tbody>\n",
       "    <tr>\n",
       "      <th>0</th>\n",
       "      <td>PENNYPACK_PARK</td>\n",
       "      <td>Pennypack Park</td>\n",
       "      <td>Pennypack Park</td>\n",
       "      <td>87084.285589</td>\n",
       "      <td>6.014076e+07</td>\n",
       "      <td>9</td>\n",
       "      <td>2013-03-19T17:41:50.507999+00:00</td>\n",
       "      <td>2013-03-19T17:41:50.743000+00:00</td>\n",
       "      <td>MULTIPOLYGON (((-75.05645 40.08743, -75.05667 ...</td>\n",
       "    </tr>\n",
       "  </tbody>\n",
       "</table>\n",
       "</div>"
      ],
      "text/plain": [
       "             name        listname         mapname    shape_leng    shape_area  \\\n",
       "0  PENNYPACK_PARK  Pennypack Park  Pennypack Park  87084.285589  6.014076e+07   \n",
       "\n",
       "   cartodb_id                        created_at  \\\n",
       "0           9  2013-03-19T17:41:50.507999+00:00   \n",
       "\n",
       "                         updated_at  \\\n",
       "0  2013-03-19T17:41:50.743000+00:00   \n",
       "\n",
       "                                            geometry  \n",
       "0  MULTIPOLYGON (((-75.05645 40.08743, -75.05667 ...  "
      ]
     },
     "execution_count": 15,
     "metadata": {},
     "output_type": "execute_result"
    }
   ],
   "source": [
    "Hoods[:1]"
   ]
  },
  {
   "cell_type": "code",
   "execution_count": 16,
   "id": "e968afbf",
   "metadata": {},
   "outputs": [],
   "source": [
    "Hoods.set_index('listname', inplace = True)"
   ]
  },
  {
   "cell_type": "code",
   "execution_count": 19,
   "id": "06867f28",
   "metadata": {},
   "outputs": [],
   "source": [
    "SH = Hoods.loc[['Spruce Hill']]"
   ]
  },
  {
   "cell_type": "code",
   "execution_count": 22,
   "id": "9b221f07",
   "metadata": {},
   "outputs": [
    {
     "data": {
      "text/plain": [
       "listname\n",
       "Spruce Hill    MULTIPOLYGON (((-75.20415 39.95740, -75.20447 ...\n",
       "Name: geometry, dtype: geometry"
      ]
     },
     "execution_count": 22,
     "metadata": {},
     "output_type": "execute_result"
    }
   ],
   "source": [
    "SH['geometry']"
   ]
  }
 ],
 "metadata": {
  "kernelspec": {
   "display_name": "Python 3 (ipykernel)",
   "language": "python",
   "name": "python3"
  },
  "language_info": {
   "codemirror_mode": {
    "name": "ipython",
    "version": 3
   },
   "file_extension": ".py",
   "mimetype": "text/x-python",
   "name": "python",
   "nbconvert_exporter": "python",
   "pygments_lexer": "ipython3",
   "version": "3.8.12"
  }
 },
 "nbformat": 4,
 "nbformat_minor": 5
}
